{
  "nbformat": 4,
  "nbformat_minor": 0,
  "metadata": {
    "colab": {
      "provenance": []
    },
    "kernelspec": {
      "name": "python3",
      "display_name": "Python 3"
    },
    "language_info": {
      "name": "python"
    }
  },
  "cells": [
    {
      "cell_type": "markdown",
      "source": [
        " 1:  ¿Como podemos agrupar los estados?\n"
      ],
      "metadata": {
        "id": "JYRn39p8lCdR"
      }
    },
    {
      "cell_type": "code",
      "execution_count": 2,
      "metadata": {
        "colab": {
          "base_uri": "https://localhost:8080/"
        },
        "id": "VLT0pwyVlBAd",
        "outputId": "fffabfc1-bcf2-444e-b625-fd33ac354d73"
      },
      "outputs": [
        {
          "output_type": "stream",
          "name": "stdout",
          "text": [
            "    Estado  Asaltos  Asesinatos  Raponazos  Delincuencia_Comun  Complejidad  \\\n",
            "0  Estado1       10           5         50                  30         13.5   \n",
            "1  Estado2       20          15         60                  40         23.5   \n",
            "2  Estado3       30          25         70                  50         33.5   \n",
            "3  Estado4       40          35         80                  60         43.5   \n",
            "\n",
            "   Grupo  \n",
            "0      3  \n",
            "1      0  \n",
            "2      2  \n",
            "3      1  \n"
          ]
        },
        {
          "output_type": "stream",
          "name": "stderr",
          "text": [
            "/usr/local/lib/python3.10/dist-packages/sklearn/cluster/_kmeans.py:1416: FutureWarning: The default value of `n_init` will change from 10 to 'auto' in 1.4. Set the value of `n_init` explicitly to suppress the warning\n",
            "  super()._check_params_vs_input(X, default_n_init=10)\n"
          ]
        }
      ],
      "source": [
        "import pandas as pd\n",
        "from sklearn.cluster import KMeans\n",
        "\n",
        "# Supongamos que tienes un DataFrame con los datos de criminalidad\n",
        "# data = pd.read_csv('criminalidad_estados.csv')\n",
        "\n",
        "# Ejemplo de datos\n",
        "data = pd.DataFrame({\n",
        "    'Estado': ['Estado1', 'Estado2', 'Estado3', 'Estado4'],\n",
        "    'Asaltos': [10, 20, 30, 40],\n",
        "    'Asesinatos': [5, 15, 25, 35],\n",
        "    'Raponazos': [50, 60, 70, 80],\n",
        "    'Delincuencia_Comun': [30, 40, 50, 60],\n",
        "    'Complejidad': [1, 2, 3, 4]  # Esta columna debe ser calculada en base a las otras\n",
        "})\n",
        "\n",
        "# Calcula la complejidad como una combinación ponderada (puedes ajustar los pesos)\n",
        "data['Complejidad'] = data['Asaltos'] * 0.3 + data['Asesinatos'] * 0.5 + data['Raponazos'] * 0.1 + data['Delincuencia_Comun'] * 0.1\n",
        "\n",
        "# Normaliza los datos\n",
        "data_normalized = data[['Complejidad']]\n",
        "\n",
        "# Aplica k-means clustering para agrupar los estados\n",
        "kmeans = KMeans(n_clusters=4)  # Elige el número de grupos\n",
        "data['Grupo'] = kmeans.fit_predict(data_normalized)\n",
        "\n",
        "print(data)\n"
      ]
    },
    {
      "cell_type": "markdown",
      "source": [
        "2: ¿Cuáles son los estados con necesidad de profesionales con mayor capacidad de atención al crimen?"
      ],
      "metadata": {
        "id": "DHOne0QZldBr"
      }
    },
    {
      "cell_type": "code",
      "source": [],
      "metadata": {
        "id": "oNe4GCmqmHPY"
      },
      "execution_count": null,
      "outputs": []
    },
    {
      "cell_type": "markdown",
      "source": [
        "3:¿Cómo distribuiría los recursos?"
      ],
      "metadata": {
        "id": "-Lw_Fj6umHla"
      }
    },
    {
      "cell_type": "code",
      "source": [
        "\n",
        "recursos = {\n",
        "    'policías_capacitados': 300,\n",
        "    'policías_de_a_pie': 500,\n",
        "    'cadetes': 150\n",
        "}\n",
        "\n",
        "def asignar_recursos(row):\n",
        "    if row['Complejidad'] >= 30:\n",
        "        return pd.Series([10, 20, 5], index=['policías_capacitados', 'policías_de_a_pie', 'cadetes'])\n",
        "    elif row['Complejidad'] >= 20:\n",
        "        return pd.Series([7, 15, 10], index=['policías_capacitados', 'policías_de_a_pie', 'cadetes'])\n",
        "    else:\n",
        "        return pd.Series([5, 10, 15], index=['policías_capacitados', 'policías_de_a_pie', 'cadetes'])\n",
        "\n",
        "data[['Asignar_policías_capacitados', 'Asignar_policías_de_a_pie', 'Asignar_cadetes']] = data.apply(asignar_recursos, axis=1)\n",
        "print(data[['Estado', 'Asignar_policías_capacitados', 'Asignar_policías_de_a_pie', 'Asignar_cadetes']])\n"
      ],
      "metadata": {
        "colab": {
          "base_uri": "https://localhost:8080/"
        },
        "id": "r9x5Oet_mMDa",
        "outputId": "5362557b-512d-4676-afd8-a1958da6e1ea"
      },
      "execution_count": 4,
      "outputs": [
        {
          "output_type": "stream",
          "name": "stdout",
          "text": [
            "    Estado  Asignar_policías_capacitados  Asignar_policías_de_a_pie  \\\n",
            "0  Estado1                             5                         10   \n",
            "1  Estado2                             7                         15   \n",
            "2  Estado3                            10                         20   \n",
            "3  Estado4                            10                         20   \n",
            "\n",
            "   Asignar_cadetes  \n",
            "0               15  \n",
            "1               10  \n",
            "2                5  \n",
            "3                5  \n"
          ]
        }
      ]
    },
    {
      "cell_type": "markdown",
      "source": [
        "5: ¿Cuáles son los grupos que existen dentro del comportamiento de la criminalidad?"
      ],
      "metadata": {
        "id": "3rpPBaEfmUeW"
      }
    },
    {
      "cell_type": "code",
      "source": [
        "print(data[['Estado', 'Grupo']])"
      ],
      "metadata": {
        "colab": {
          "base_uri": "https://localhost:8080/"
        },
        "id": "FW_1mfL-mZe4",
        "outputId": "80197df5-c1da-4d31-f1aa-650d32b4b3ec"
      },
      "execution_count": 5,
      "outputs": [
        {
          "output_type": "stream",
          "name": "stdout",
          "text": [
            "    Estado  Grupo\n",
            "0  Estado1      3\n",
            "1  Estado2      0\n",
            "2  Estado3      2\n",
            "3  Estado4      1\n"
          ]
        }
      ]
    }
  ]
}